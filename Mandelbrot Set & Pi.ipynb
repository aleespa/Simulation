{
 "cells": [
  {
   "cell_type": "code",
   "execution_count": 17,
   "metadata": {
    "collapsed": true
   },
   "outputs": [],
   "source": [
    "import numpy as py\n",
    "from __future__ import division\n",
    "from math import *"
   ]
  },
  {
   "cell_type": "markdown",
   "metadata": {},
   "source": [
    "$$f_{c}(z)=z^2+c$$\n",
    "$$f_{c}^k(z)=f_{c}(f_{c}^{k-1}(z))$$\n",
    "$$n_{\\epsilon} = \\max \\{k|\\quad f_{\\frac{1}{4}+\\epsilon}^{k}(0)\\le2\\}$$\n",
    "$$\\lim_{\\epsilon\\rightarrow 0}\\sqrt{\\epsilon}n_\\epsilon = \\pi$$"
   ]
  },
  {
   "cell_type": "code",
   "execution_count": 37,
   "metadata": {},
   "outputs": [
    {
     "name": "stdout",
     "output_type": "stream",
     "text": [
      "3.14153311872\n"
     ]
    }
   ],
   "source": [
    "z = 0\n",
    "e = 0.000000001\n",
    "c = 0.25+e\n",
    "N = 0\n",
    "while z <= 2:\n",
    "    z = z**2+c\n",
    "    N += 1\n",
    "print e**0.5*N"
   ]
  }
 ],
 "metadata": {
  "kernelspec": {
   "display_name": "Python 2",
   "language": "python",
   "name": "python2"
  },
  "language_info": {
   "codemirror_mode": {
    "name": "ipython",
    "version": 2
   },
   "file_extension": ".py",
   "mimetype": "text/x-python",
   "name": "python",
   "nbconvert_exporter": "python",
   "pygments_lexer": "ipython2",
   "version": "2.7.14"
  }
 },
 "nbformat": 4,
 "nbformat_minor": 2
}
