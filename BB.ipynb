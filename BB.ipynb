{
 "cells": [
  {
   "cell_type": "code",
   "execution_count": 2,
   "metadata": {},
   "outputs": [
    {
     "name": "stderr",
     "output_type": "stream",
     "text": [
      "IOPub data rate exceeded.\n",
      "The notebook server will temporarily stop sending output\n",
      "to the client in order to avoid crashing it.\n",
      "To change this limit, set the config variable\n",
      "`--NotebookApp.iopub_data_rate_limit`.\n"
     ]
    }
   ],
   "source": [
    "from __future__ import division\n",
    "from math import *\n",
    "import pandas as pd\n",
    "import numpy as np\n",
    "import plotly.offline as offline\n",
    "import plotly.graph_objs as go\n",
    "import plotly.plotly as pya\n",
    "offline.init_notebook_mode()"
   ]
  },
  {
   "cell_type": "code",
   "execution_count": 1,
   "metadata": {
    "collapsed": true
   },
   "outputs": [],
   "source": [
    "def BB(dt):\n",
    "    T = np.arange(0,1+dt,dt)\n",
    "    n = len(T)\n",
    "    B = np.ones(n)*0\n",
    "    for i in range(n):\n",
    "        xi = sqrt(2)*np.random.randn()/((i+1)*pi)\n",
    "        B = B + xi*np.array([sin((i+1)*pi*t) for t in T])\n",
    "    return T, B"
   ]
  },
  {
   "cell_type": "code",
   "execution_count": 33,
   "metadata": {},
   "outputs": [],
   "source": [
    "W = []\n",
    "DAT = []\n",
    "for k in range(25):\n",
    "    X, Y = BB(0.01)\n",
    "    W.append(Y)\n",
    "    DAT.append(go.Scatter(x=X, y=Y,  line = dict(color = k),name=\"B{}\".format(k)))    "
   ]
  },
  {
   "cell_type": "code",
   "execution_count": 34,
   "metadata": {},
   "outputs": [
    {
     "data": {
      "text/plain": [
       "'file:///home/aleespa/Desktop/Simulation/MB.html'"
      ]
     },
     "execution_count": 34,
     "metadata": {},
     "output_type": "execute_result"
    }
   ],
   "source": [
    "Layout=go.Layout(title='Puente Browniano')\n",
    "fig = go.Figure(data=DAT, layout=Layout)\n",
    "offline.plot(fig,filename='MB.html')"
   ]
  },
  {
   "cell_type": "code",
   "execution_count": 42,
   "metadata": {},
   "outputs": [],
   "source": [
    "W = []\n",
    "DAT = []\n",
    "for k in range(35):\n",
    "    X, Y = BB(0.001)\n",
    "    W.append(Y)\n",
    "    DAT.append(go.Scatter(x=np.sin(X*2*pi)*(Y+1), y= np.cos(X*2*pi)*(Y+1),  \n",
    "                          line = dict(color = k),name=\"B{}\".format(k)))    "
   ]
  },
  {
   "cell_type": "code",
   "execution_count": 43,
   "metadata": {},
   "outputs": [
    {
     "data": {
      "text/plain": [
       "'file:///home/aleespa/Desktop/Simulation/CMB.html'"
      ]
     },
     "execution_count": 43,
     "metadata": {},
     "output_type": "execute_result"
    }
   ],
   "source": [
    "Layout=go.Layout(title='Puente Browniano Polares')\n",
    "fig = go.Figure(data=DAT, layout=Layout)\n",
    "offline.plot(fig,filename='CMB.html')"
   ]
  }
 ],
 "metadata": {
  "kernelspec": {
   "display_name": "Python 2",
   "language": "python",
   "name": "python2"
  },
  "language_info": {
   "codemirror_mode": {
    "name": "ipython",
    "version": 2
   },
   "file_extension": ".py",
   "mimetype": "text/x-python",
   "name": "python",
   "nbconvert_exporter": "python",
   "pygments_lexer": "ipython2",
   "version": "2.7.14"
  }
 },
 "nbformat": 4,
 "nbformat_minor": 2
}
