{
 "cells": [
  {
   "cell_type": "code",
   "execution_count": 1,
   "metadata": {},
   "outputs": [
    {
     "name": "stderr",
     "output_type": "stream",
     "text": [
      "IOPub data rate exceeded.\n",
      "The notebook server will temporarily stop sending output\n",
      "to the client in order to avoid crashing it.\n",
      "To change this limit, set the config variable\n",
      "`--NotebookApp.iopub_data_rate_limit`.\n"
     ]
    }
   ],
   "source": [
    "from __future__ import division\n",
    "from math import *\n",
    "import pandas as pd\n",
    "import numpy as np\n",
    "import plotly.offline as offline\n",
    "import plotly.graph_objs as go\n",
    "import plotly.plotly as py\n",
    "offline.init_notebook_mode()"
   ]
  },
  {
   "cell_type": "code",
   "execution_count": 3,
   "metadata": {
    "collapsed": true
   },
   "outputs": [],
   "source": [
    "def BM(dt):\n",
    "    T = np.arange(0,1+dt,dt)\n",
    "    n = len(T)\n",
    "    B = np.ones(n)*0\n",
    "    for i in range(n):\n",
    "        xi = sqrt(2)*(np.random.randn())/((i+0.5)*pi)\n",
    "        B = B + xi*np.array([sin((i+0.5)*pi*t) for t in T])\n",
    "    return T, B"
   ]
  },
  {
   "cell_type": "code",
   "execution_count": 4,
   "metadata": {
    "collapsed": true
   },
   "outputs": [],
   "source": [
    "def IntE(f, dt):\n",
    "    T, B = BM(dt)\n",
    "    n = len(T)\n",
    "    y = 0\n",
    "    Y = [0]\n",
    "    for i in range(1,n):\n",
    "        y += f(T[i])*(B[i]-B[i-1])\n",
    "        Y.append(y)\n",
    "    return T, Y"
   ]
  },
  {
   "cell_type": "code",
   "execution_count": 49,
   "metadata": {},
   "outputs": [],
   "source": [
    "W = []\n",
    "DAT = []\n",
    "for k in range(30):\n",
    "    X, Y = IntE(lambda x:-x+1,0.0008)\n",
    "    W.append(Y)\n",
    "    DAT.append(go.Scatter(x=X, y=Y,  line = dict(color = k),name=\"B{}\".format(k)))    "
   ]
  },
  {
   "cell_type": "code",
   "execution_count": 50,
   "metadata": {},
   "outputs": [
    {
     "data": {
      "text/plain": [
       "'file:///home/aleespa/Desktop/Simulation/IE.html'"
      ]
     },
     "execution_count": 50,
     "metadata": {},
     "output_type": "execute_result"
    }
   ],
   "source": [
    "Layout=go.Layout(title='Integral Estocástica')\n",
    "fig = go.Figure(data=DAT, layout=Layout)\n",
    "offline.plot(fig,filename='IE.html')"
   ]
  }
 ],
 "metadata": {
  "kernelspec": {
   "display_name": "Python 2",
   "language": "python",
   "name": "python2"
  },
  "language_info": {
   "codemirror_mode": {
    "name": "ipython",
    "version": 2
   },
   "file_extension": ".py",
   "mimetype": "text/x-python",
   "name": "python",
   "nbconvert_exporter": "python",
   "pygments_lexer": "ipython2",
   "version": "2.7.14"
  }
 },
 "nbformat": 4,
 "nbformat_minor": 2
}
