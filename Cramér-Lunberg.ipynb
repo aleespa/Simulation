{
 "cells": [
  {
   "cell_type": "code",
   "execution_count": 41,
   "metadata": {
    "collapsed": true
   },
   "outputs": [],
   "source": [
    "import numpy as np\n",
    "import plotly.offline as offline\n",
    "import plotly.graph_objs as go\n",
    "import plotly.plotly as py"
   ]
  },
  {
   "cell_type": "code",
   "execution_count": 126,
   "metadata": {
    "collapsed": true
   },
   "outputs": [],
   "source": [
    "def Nt(T,l):\n",
    "    N = [0]\n",
    "    ...some code...   \n",
    "    return N"
   ]
  },
  {
   "cell_type": "code",
   "execution_count": 127,
   "metadata": {},
   "outputs": [],
   "source": [
    "def Ct(T, u, c, l):\n",
    "    C = [u]\n",
    "    Nt = np.cumsum([np.random.poisson(l*x) for x in T])\n",
    "    for i in range(len(T)):\n",
    "        if Nt[i] - Nt[i-1] > 0:\n",
    "            C.append(C[-i]+c*T[i]-np.random.exponential())\n",
    "        else:\n",
    "            C.append(C[-i]+c*T[i])\n",
    "    return T, Nt"
   ]
  },
  {
   "cell_type": "code",
   "execution_count": 128,
   "metadata": {},
   "outputs": [],
   "source": [
    "X,Y = Ct(np.arange(0,10,0.01),10,0.4,l=10)\n",
    "DAT=[go.Scatter(x=X, y=Nt(np.arange(0,10,0.001),2),  line = dict(color = '#f10000'))]"
   ]
  },
  {
   "cell_type": "code",
   "execution_count": 129,
   "metadata": {},
   "outputs": [
    {
     "data": {
      "text/plain": [
       "'file:///home/aleespa/Desktop/Simulation/MB.html'"
      ]
     },
     "execution_count": 129,
     "metadata": {},
     "output_type": "execute_result"
    }
   ],
   "source": [
    "Layout=go.Layout(title='Movimiento Browniano')\n",
    "fig = go.Figure(data=DAT, layout=Layout)\n",
    "offline.plot(fig,filename='MB.html')"
   ]
  }
 ],
 "metadata": {
  "kernelspec": {
   "display_name": "Python 2",
   "language": "python",
   "name": "python2"
  },
  "language_info": {
   "codemirror_mode": {
    "name": "ipython",
    "version": 2
   },
   "file_extension": ".py",
   "mimetype": "text/x-python",
   "name": "python",
   "nbconvert_exporter": "python",
   "pygments_lexer": "ipython2",
   "version": "2.7.14"
  }
 },
 "nbformat": 4,
 "nbformat_minor": 2
}
